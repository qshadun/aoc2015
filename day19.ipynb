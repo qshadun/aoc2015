{
 "cells": [
  {
   "cell_type": "code",
   "execution_count": 1,
   "metadata": {},
   "outputs": [],
   "source": [
    "from utils import read_lines\n",
    "from collections import defaultdict\n",
    "from collections import deque\n",
    "from functools import cache\n",
    "\n",
    "def parse_input(input_file):\n",
    "    lines = read_lines(input_file)\n",
    "    formulas = defaultdict(list)\n",
    "    for line in lines[:-2]:\n",
    "        k, v = line.split(' => ')\n",
    "        formulas[k].append(v)\n",
    "    return formulas, lines[-1]\n",
    "\n",
    "def one_step(formulas, s):\n",
    "    n = len(s)\n",
    "    ans = set()\n",
    "    for i in range(n):\n",
    "        fs = formulas.get(s[i], [])\n",
    "        for f in fs:\n",
    "            ans.add(s[:i] + f + s[i+1:])\n",
    "        if i < n - 1:\n",
    "            fs2 = formulas.get(s[i:i+2], [])\n",
    "            for f in fs2:\n",
    "                ans.add(s[:i] + f + s[i+2:])\n",
    "    return ans\n",
    "\n",
    "def reverse_formulas(formulas):\n",
    "    ans = {}\n",
    "    for k, vs in formulas.items():\n",
    "        for v in vs:\n",
    "            ans[v] = k\n",
    "    return ans\n",
    "\n",
    "def reverse_one_step(fr, s):\n",
    "    ans = set()\n",
    "    for i in range(len(s)):\n",
    "        for k, v in fr.items():\n",
    "            if s[i:i+len(k)] == k:\n",
    "                ans.add(s[:i] + v + s[i+len(k):])\n",
    "    return ans\n",
    "\n",
    "def part1(input_file):\n",
    "    formulas, s = parse_input(input_file)\n",
    "    return len(one_step(formulas, s))\n",
    "\n",
    "# def part2(input_file):\n",
    "#     formulas, s = parse_input(input_file)\n",
    "#     fr = reverse_formulas(formulas)\n",
    "#     start = 'e'\n",
    "#     q_left = deque([start])\n",
    "#     visited_left = set([start])\n",
    "#     steps_left = 0\n",
    "\n",
    "#     end = s\n",
    "#     q_right = deque([end])\n",
    "#     visited_right = set([end])\n",
    "#     steps_right = 0\n",
    "#     while True:\n",
    "#         if q_left:\n",
    "#             cur_len = len(q_left)\n",
    "#             for _ in range(cur_len):\n",
    "#                 cur = q_left.popleft()\n",
    "#                 for ne in one_step(formulas, cur):\n",
    "#                     if ne in visited_right:\n",
    "#                         return steps_left + steps_right + 1\n",
    "#                     if ne not in visited_left:\n",
    "#                         q_left.append(ne)\n",
    "#                         visited_left.add(ne)\n",
    "#             steps_left += 1\n",
    "#         if q_right:\n",
    "#             cur_len = len(q_right)\n",
    "#             for _ in range(cur_len):\n",
    "#                 cur = q_right.popleft()\n",
    "#                 for ne in reverse_one_step(fr, cur):\n",
    "#                     if ne in visited_left:\n",
    "#                         return steps_left + steps_right + 1\n",
    "#                     if ne not in visited_right:\n",
    "#                         q_right.append(ne)\n",
    "#                         visited_right.add(ne)\n",
    "#             steps_right += 1\n",
    "                \n",
    "\n",
    "def part2(input_file):\n",
    "    formulas, s = parse_input(input_file)\n",
    "    fr = reverse_formulas(formulas)\n",
    "    start = 'e'\n",
    "\n",
    "    @cache \n",
    "    def dp(cur):\n",
    "        if cur == start:\n",
    "            return 0\n",
    "        if len(cur) == 1:\n",
    "            return float('inf')\n",
    "        ans = float('inf')\n",
    "        for ne in reverse_one_step(fr, cur):\n",
    "            ans = min(ans, 1 + dp(ne))\n",
    "        return ans\n",
    "    return dp(s)\n"
   ]
  },
  {
   "cell_type": "code",
   "execution_count": 6,
   "metadata": {},
   "outputs": [
    {
     "data": {
      "text/plain": [
       "576"
      ]
     },
     "execution_count": 6,
     "metadata": {},
     "output_type": "execute_result"
    }
   ],
   "source": [
    "part1('inputs/day19.txt')"
   ]
  },
  {
   "cell_type": "code",
   "execution_count": null,
   "metadata": {},
   "outputs": [],
   "source": [
    "part2('inputs/day19.txt')"
   ]
  },
  {
   "cell_type": "code",
   "execution_count": 6,
   "metadata": {},
   "outputs": [
    {
     "name": "stdout",
     "output_type": "stream",
     "text": [
      "207\n"
     ]
    }
   ],
   "source": [
    "#code copied from reddit\n",
    "import re\n",
    "\n",
    "with open('inputs/day19.txt') as f:\n",
    "    input = f.read()\n",
    "molecule = input.split('\\n')[-1][::-1]\n",
    "reps = {m[1][::-1]: m[0][::-1] \n",
    "        for m in re.findall(r'(\\w+) => (\\w+)', input)}\n",
    "def rep(x):\n",
    "    return reps[x.group()]\n",
    "\n",
    "count = 0\n",
    "while molecule != 'e':\n",
    "    molecule = re.sub('|'.join(reps.keys()), rep, molecule, 1)\n",
    "    count += 1\n",
    "\n",
    "print(count)"
   ]
  },
  {
   "cell_type": "code",
   "execution_count": null,
   "metadata": {},
   "outputs": [],
   "source": []
  }
 ],
 "metadata": {
  "kernelspec": {
   "display_name": "Test",
   "language": "python",
   "name": "python3"
  },
  "language_info": {
   "codemirror_mode": {
    "name": "ipython",
    "version": 3
   },
   "file_extension": ".py",
   "mimetype": "text/x-python",
   "name": "python",
   "nbconvert_exporter": "python",
   "pygments_lexer": "ipython3",
   "version": "3.12.2"
  }
 },
 "nbformat": 4,
 "nbformat_minor": 2
}
