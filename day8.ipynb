{
 "cells": [
  {
   "cell_type": "code",
   "execution_count": 9,
   "metadata": {},
   "outputs": [],
   "source": [
    "from utils import read_lines\n",
    "\n",
    "def mem_count(s):\n",
    "    to_minus = 2\n",
    "    i = 1\n",
    "    while i < len(s) - 2:\n",
    "        if s[i] == '\\\\':\n",
    "            if s[i+1] in ('\\\\', '\"'):\n",
    "                to_minus += 1\n",
    "                i += 2\n",
    "            elif s[i+1] == 'x':\n",
    "                to_minus += 3\n",
    "                i += 4\n",
    "            else:\n",
    "                raise ValueError('illegal', i, s)\n",
    "        else:\n",
    "            i += 1\n",
    "    return len(s) - to_minus\n",
    "\n",
    "def count_escape(s):\n",
    "    ans = 0\n",
    "    for c in s:\n",
    "        if c in ('\\\\', '\"'):\n",
    "            ans += 1\n",
    "    return ans\n",
    "\n",
    "def part1(input_file):\n",
    "    ans = 0\n",
    "    for line in read_lines(input_file):\n",
    "        ans += len(line) - mem_count(line)\n",
    "    return ans\n",
    "            \n",
    "def part2(input_file):\n",
    "    ans = 0\n",
    "    for line in read_lines(input_file):\n",
    "        ans += count_escape(line) + 2\n",
    "    return ans"
   ]
  },
  {
   "cell_type": "code",
   "execution_count": 7,
   "metadata": {},
   "outputs": [
    {
     "data": {
      "text/plain": [
       "1342"
      ]
     },
     "execution_count": 7,
     "metadata": {},
     "output_type": "execute_result"
    }
   ],
   "source": [
    "part1('inputs/day8.txt')"
   ]
  },
  {
   "cell_type": "code",
   "execution_count": 10,
   "metadata": {},
   "outputs": [
    {
     "data": {
      "text/plain": [
       "2074"
      ]
     },
     "execution_count": 10,
     "metadata": {},
     "output_type": "execute_result"
    }
   ],
   "source": [
    "part2('inputs/day8.txt')"
   ]
  },
  {
   "cell_type": "code",
   "execution_count": null,
   "metadata": {},
   "outputs": [],
   "source": []
  }
 ],
 "metadata": {
  "kernelspec": {
   "display_name": "Test",
   "language": "python",
   "name": "python3"
  },
  "language_info": {
   "codemirror_mode": {
    "name": "ipython",
    "version": 3
   },
   "file_extension": ".py",
   "mimetype": "text/x-python",
   "name": "python",
   "nbconvert_exporter": "python",
   "pygments_lexer": "ipython3",
   "version": "3.12.2"
  }
 },
 "nbformat": 4,
 "nbformat_minor": 2
}
