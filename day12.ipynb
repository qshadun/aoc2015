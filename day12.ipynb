{
 "cells": [
  {
   "cell_type": "code",
   "execution_count": 12,
   "metadata": {},
   "outputs": [],
   "source": [
    "import json\n",
    "\n",
    "def part1(input_file):\n",
    "    with open(input_file) as f:\n",
    "        s = f.read()\n",
    "    o = json.loads(s)\n",
    "    return sum_nums(o)\n",
    "\n",
    "def sum_nums(o):\n",
    "    if isinstance(o, int):\n",
    "        return o\n",
    "    elif isinstance(o, str):\n",
    "        return 0\n",
    "    elif isinstance(o, list):\n",
    "        return sum(sum_nums(v) for v in o)\n",
    "    elif isinstance(o, dict):\n",
    "        return sum(sum_nums(v) for v in o.values())\n",
    "    else:\n",
    "        raise ValueError(f'unknown type {type(o)} {o}', )\n",
    "\n",
    "def sum_nums2(o):\n",
    "    if isinstance(o, int):\n",
    "        return o\n",
    "    elif isinstance(o, str):\n",
    "        return 0\n",
    "    elif isinstance(o, list):\n",
    "        return sum(sum_nums2(v) for v in o)\n",
    "    elif isinstance(o, dict):\n",
    "        if 'red' in o.values():\n",
    "            return 0\n",
    "        else:\n",
    "            return sum(sum_nums2(v) for v in o.values())\n",
    "    else:\n",
    "        raise ValueError(f'unknown type {type(o)} {o}', )\n",
    "    \n",
    "def part2(input_file):\n",
    "    with open(input_file) as f:\n",
    "        s = f.read()\n",
    "    o = json.loads(s)\n",
    "    return sum_nums2(o)"
   ]
  },
  {
   "cell_type": "code",
   "execution_count": 8,
   "metadata": {},
   "outputs": [
    {
     "data": {
      "text/plain": [
       "111754"
      ]
     },
     "execution_count": 8,
     "metadata": {},
     "output_type": "execute_result"
    }
   ],
   "source": [
    "part1('inputs/day12.json')"
   ]
  },
  {
   "cell_type": "code",
   "execution_count": 13,
   "metadata": {},
   "outputs": [
    {
     "data": {
      "text/plain": [
       "65402"
      ]
     },
     "execution_count": 13,
     "metadata": {},
     "output_type": "execute_result"
    }
   ],
   "source": [
    "part2('inputs/day12.json')"
   ]
  },
  {
   "cell_type": "code",
   "execution_count": null,
   "metadata": {},
   "outputs": [],
   "source": []
  }
 ],
 "metadata": {
  "kernelspec": {
   "display_name": "Test",
   "language": "python",
   "name": "python3"
  },
  "language_info": {
   "codemirror_mode": {
    "name": "ipython",
    "version": 3
   },
   "file_extension": ".py",
   "mimetype": "text/x-python",
   "name": "python",
   "nbconvert_exporter": "python",
   "pygments_lexer": "ipython3",
   "version": "3.12.2"
  }
 },
 "nbformat": 4,
 "nbformat_minor": 2
}
