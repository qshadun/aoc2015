{
 "cells": [
  {
   "cell_type": "code",
   "execution_count": 10,
   "metadata": {},
   "outputs": [],
   "source": [
    "from utils import read_lines\n",
    "from collections import defaultdict\n",
    "from collections import deque\n",
    "\n",
    "\n",
    "def calc(rand1, rand2, op):\n",
    "    match op:\n",
    "        case \"AND\":\n",
    "            return rand1 & rand2\n",
    "        case \"OR\":\n",
    "            return rand1 | rand2\n",
    "        case \"LSHIFT\":\n",
    "            return rand1 << rand2\n",
    "        case \"RSHIFT\":\n",
    "            return rand1 >> rand2\n",
    "        case _:\n",
    "            raise ValueError(f\"invalid op {op}\")\n",
    "\n",
    "\n",
    "def get_value(values, k):\n",
    "    if isinstance(k, int):\n",
    "        return k\n",
    "    else:\n",
    "        return values[k]\n",
    "\n",
    "\n",
    "def parse_input(input_file):\n",
    "    indegree = defaultdict(int)\n",
    "    downstream = defaultdict(list)\n",
    "    instructions = {}\n",
    "    for line in read_lines(input_file):\n",
    "        left, right = line.split(\" -> \")\n",
    "        parts = left.split(\" \")\n",
    "        if len(parts) == 1:\n",
    "            try:\n",
    "                v = int(parts[0])\n",
    "            except Exception:\n",
    "                downstream[parts[0]].append(right)\n",
    "                indegree[right] = 1\n",
    "                instructions[right] = [left]\n",
    "            else:\n",
    "                indegree[right] = 0\n",
    "                instructions[right] = [v]\n",
    "        elif parts[0] == \"NOT\":\n",
    "            try:\n",
    "                v = int(parts[1])\n",
    "\n",
    "            except Exception:\n",
    "                downstream[parts[1]].append(right)\n",
    "                indegree[right] = 1\n",
    "                instructions[right] = [\"NOT\", parts[1]]\n",
    "\n",
    "            else:\n",
    "                instructions[right] = [\"NOT\", v]\n",
    "                indegree[right] = 0\n",
    "        else:\n",
    "            v1, v2 = None, None\n",
    "            try:\n",
    "                v1 = int(parts[0])\n",
    "            except Exception:\n",
    "                indegree[right] += 1\n",
    "                downstream[parts[0]].append(right)\n",
    "            try:\n",
    "                v2 = int(parts[2])\n",
    "            except Exception:\n",
    "                indegree[right] += 1\n",
    "                downstream[parts[2]].append(right)\n",
    "            if v1 and v2:\n",
    "                instructions[right] = [parts[1], v1, v2]\n",
    "            elif v1:\n",
    "                instructions[right] = [parts[1], v1, parts[2]]\n",
    "            elif v2:\n",
    "                instructions[right] = [parts[1], parts[0], v2]\n",
    "            else:\n",
    "                instructions[right] = [parts[1], parts[0], parts[2]]\n",
    "    return indegree, downstream, instructions\n",
    "\n",
    "\n",
    "def solve(indegree, downstream, instructions):\n",
    "    values = {}\n",
    "    q = deque()\n",
    "    for k, v in indegree.items():\n",
    "        if v == 0:\n",
    "            q.append(k)\n",
    "    while q:\n",
    "        k = q.popleft()\n",
    "        instruction = instructions[k]\n",
    "        try:\n",
    "            if len(instruction) == 1:\n",
    "                values[k] = get_value(values, instruction[0])\n",
    "            elif instruction[0] == \"NOT\":\n",
    "                values[k] = ~get_value(values, instruction[1])\n",
    "            else:\n",
    "                values[k] = calc(\n",
    "                    get_value(values, instruction[1]),\n",
    "                    get_value(values, instruction[2]),\n",
    "                    instruction[0],\n",
    "                )\n",
    "            for down in downstream[k]:\n",
    "                indegree[down] -= 1\n",
    "                if indegree[down] == 0:\n",
    "                    q.append(down)\n",
    "        except Exception:\n",
    "            print(k, instruction)\n",
    "            raise\n",
    "    return values\n",
    "\n",
    "\n",
    "def part1(input_file):\n",
    "    indegree, downstream, instructions = parse_input(input_file)\n",
    "\n",
    "    values = solve(indegree, downstream, instructions)\n",
    "    return values[\"a\"]\n",
    "\n",
    "\n",
    "def part2(input_file):\n",
    "    indegree, downstream, instructions = parse_input(input_file)\n",
    "\n",
    "    values = solve(indegree.copy(), downstream, instructions)\n",
    "\n",
    "    a = values[\"a\"]\n",
    "    indegree[\"b\"] = 0\n",
    "    instructions[\"b\"] = [a]\n",
    "\n",
    "    return solve(indegree, downstream, instructions)[\"a\"]"
   ]
  },
  {
   "cell_type": "code",
   "execution_count": 11,
   "metadata": {},
   "outputs": [
    {
     "data": {
      "text/plain": [
       "16076"
      ]
     },
     "execution_count": 11,
     "metadata": {},
     "output_type": "execute_result"
    }
   ],
   "source": [
    "part1('inputs/day7.txt')"
   ]
  },
  {
   "cell_type": "code",
   "execution_count": 12,
   "metadata": {},
   "outputs": [
    {
     "data": {
      "text/plain": [
       "2797"
      ]
     },
     "execution_count": 12,
     "metadata": {},
     "output_type": "execute_result"
    }
   ],
   "source": [
    "part2('inputs/day7.txt')"
   ]
  },
  {
   "cell_type": "code",
   "execution_count": null,
   "metadata": {},
   "outputs": [],
   "source": []
  }
 ],
 "metadata": {
  "kernelspec": {
   "display_name": "Test",
   "language": "python",
   "name": "python3"
  },
  "language_info": {
   "codemirror_mode": {
    "name": "ipython",
    "version": 3
   },
   "file_extension": ".py",
   "mimetype": "text/x-python",
   "name": "python",
   "nbconvert_exporter": "python",
   "pygments_lexer": "ipython3",
   "version": "3.12.2"
  }
 },
 "nbformat": 4,
 "nbformat_minor": 2
}
