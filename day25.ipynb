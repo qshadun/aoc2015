{
 "cells": [
  {
   "cell_type": "code",
   "execution_count": 7,
   "metadata": {},
   "outputs": [],
   "source": [
    "\"\"\"To continue, please consult the code grid in the manual.  Enter the code at row 2981, column 3075.\"\"\"\n",
    "\n",
    "first_code = 20151125\n",
    "mul = 252533\n",
    "mod = 33554393\n",
    "target_row = 2981\n",
    "target_col = 3075\n",
    "\n",
    "def next_code(code):\n",
    "    return code * mul % mod"
   ]
  },
  {
   "cell_type": "code",
   "execution_count": 8,
   "metadata": {},
   "outputs": [
    {
     "data": {
      "text/plain": [
       "9132360"
      ]
     },
     "execution_count": 8,
     "metadata": {},
     "output_type": "execute_result"
    }
   ],
   "source": [
    "def solve():\n",
    "    row, col = 1, 1\n",
    "    max_row, max_col = 1, 1\n",
    "    cur_code = first_code\n",
    "\n",
    "    while not (row == target_row and col == target_col):\n",
    "        cur_code = next_code(cur_code)\n",
    "        if row == 1:\n",
    "            row = max_row + 1\n",
    "            col = 1\n",
    "            max_row += 1\n",
    "            \n",
    "        else:\n",
    "            row -= 1\n",
    "            col += 1\n",
    "    return cur_code\n",
    "solve()\n"
   ]
  },
  {
   "cell_type": "code",
   "execution_count": null,
   "metadata": {},
   "outputs": [],
   "source": []
  }
 ],
 "metadata": {
  "kernelspec": {
   "display_name": "Test",
   "language": "python",
   "name": "python3"
  },
  "language_info": {
   "codemirror_mode": {
    "name": "ipython",
    "version": 3
   },
   "file_extension": ".py",
   "mimetype": "text/x-python",
   "name": "python",
   "nbconvert_exporter": "python",
   "pygments_lexer": "ipython3",
   "version": "3.12.2"
  }
 },
 "nbformat": 4,
 "nbformat_minor": 2
}
