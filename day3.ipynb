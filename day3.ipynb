{
 "cells": [
  {
   "cell_type": "code",
   "execution_count": 3,
   "metadata": {},
   "outputs": [],
   "source": [
    "from utils import read_lines\n",
    "\n",
    "deltas = {\n",
    "    '^': [-1, 0],\n",
    "    'v': [1, 0],\n",
    "    '<': [0, -1],\n",
    "    '>': [0, 1],\n",
    "}\n",
    "\n",
    "def part1(input_file):\n",
    "    line = read_lines(input_file)[0]\n",
    "    cur = (0, 0)\n",
    "    visited = set([cur])\n",
    "    for c in line:\n",
    "        dy, dx = deltas[c]\n",
    "        cur = (cur[0] + dy, cur[1] + dx)\n",
    "        visited.add(cur)\n",
    "    return len(visited) \n",
    "\n",
    "def part2(input_file):\n",
    "    line = read_lines(input_file)[0]\n",
    "    santa, robot = (0, 0), (0, 0)\n",
    "    visited = set([santa])\n",
    "    for i in range(0, len(line), 2):\n",
    "        c1, c2 = line[i], line[i + 1]\n",
    "        dy, dx = deltas[c1]\n",
    "        santa = (santa[0] + dy, santa[1] + dx)\n",
    "        dy, dx = deltas[c2]\n",
    "        robot = (robot[0] + dy, robot[1] + dx)\n",
    "        visited.add(santa)\n",
    "        visited.add(robot)\n",
    "    return len(visited) "
   ]
  },
  {
   "cell_type": "code",
   "execution_count": 2,
   "metadata": {},
   "outputs": [
    {
     "data": {
      "text/plain": [
       "2572"
      ]
     },
     "execution_count": 2,
     "metadata": {},
     "output_type": "execute_result"
    }
   ],
   "source": [
    "part1('inputs/day3.txt')"
   ]
  },
  {
   "cell_type": "code",
   "execution_count": 4,
   "metadata": {},
   "outputs": [
    {
     "data": {
      "text/plain": [
       "2631"
      ]
     },
     "execution_count": 4,
     "metadata": {},
     "output_type": "execute_result"
    }
   ],
   "source": [
    "part2('inputs/day3.txt')"
   ]
  },
  {
   "cell_type": "code",
   "execution_count": null,
   "metadata": {},
   "outputs": [],
   "source": []
  }
 ],
 "metadata": {
  "kernelspec": {
   "display_name": "Test",
   "language": "python",
   "name": "python3"
  },
  "language_info": {
   "codemirror_mode": {
    "name": "ipython",
    "version": 3
   },
   "file_extension": ".py",
   "mimetype": "text/x-python",
   "name": "python",
   "nbconvert_exporter": "python",
   "pygments_lexer": "ipython3",
   "version": "3.12.2"
  }
 },
 "nbformat": 4,
 "nbformat_minor": 2
}
