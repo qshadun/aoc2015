{
 "cells": [
  {
   "cell_type": "code",
   "execution_count": 8,
   "metadata": {},
   "outputs": [],
   "source": [
    "from utils import read_lines\n",
    "\n",
    "def parse_input(input_file):\n",
    "    ans = []\n",
    "    for line in read_lines(input_file):\n",
    "        parts = line.split(' ')\n",
    "        if len(parts) == 3:\n",
    "            ans.append([parts[0], parts[1][:-1], parts[2]])\n",
    "        else:\n",
    "            ans.append(parts + [None])\n",
    "    return ans\n",
    "\n",
    "def execute(program, a = 0):\n",
    "    i = 0\n",
    "    registers = {'a': a, 'b': 0}\n",
    "    while 0 <= i < len(program):\n",
    "        cmd, op1, op2 = program[i]\n",
    "        match cmd:\n",
    "            case 'hlf':\n",
    "                registers[op1] //= 2\n",
    "                i += 1\n",
    "            case 'tpl':\n",
    "                registers[op1] *= 3\n",
    "                i += 1\n",
    "            case 'inc':\n",
    "                registers[op1] += 1\n",
    "                i += 1\n",
    "            case 'jmp':\n",
    "                i += int(op1)\n",
    "            case 'jie':\n",
    "                if registers[op1] % 2 == 0:\n",
    "                    i += int(op2)\n",
    "                else:\n",
    "                    i += 1\n",
    "            case 'jio':\n",
    "                if registers[op1] == 1:\n",
    "                    i += int(op2)\n",
    "                else:\n",
    "                    i += 1\n",
    "            case _:\n",
    "                raise ValueError(f'unkonwn instruction {program[i]}')\n",
    "    return registers\n",
    "\n",
    "def part1(input_file):\n",
    "    program = parse_input(input_file)\n",
    "    return execute(program)['b']\n",
    "\n",
    "def part2(input_file):\n",
    "    program = parse_input(input_file)\n",
    "    return execute(program, 1)['b']\n",
    "        "
   ]
  },
  {
   "cell_type": "code",
   "execution_count": 7,
   "metadata": {},
   "outputs": [
    {
     "data": {
      "text/plain": [
       "184"
      ]
     },
     "execution_count": 7,
     "metadata": {},
     "output_type": "execute_result"
    }
   ],
   "source": [
    "part1('inputs/day23.txt')"
   ]
  },
  {
   "cell_type": "code",
   "execution_count": 9,
   "metadata": {},
   "outputs": [
    {
     "data": {
      "text/plain": [
       "231"
      ]
     },
     "execution_count": 9,
     "metadata": {},
     "output_type": "execute_result"
    }
   ],
   "source": [
    "part2('inputs/day23.txt')"
   ]
  },
  {
   "cell_type": "code",
   "execution_count": null,
   "metadata": {},
   "outputs": [],
   "source": []
  }
 ],
 "metadata": {
  "kernelspec": {
   "display_name": "Test",
   "language": "python",
   "name": "python3"
  },
  "language_info": {
   "codemirror_mode": {
    "name": "ipython",
    "version": 3
   },
   "file_extension": ".py",
   "mimetype": "text/x-python",
   "name": "python",
   "nbconvert_exporter": "python",
   "pygments_lexer": "ipython3",
   "version": "3.12.2"
  }
 },
 "nbformat": 4,
 "nbformat_minor": 2
}
