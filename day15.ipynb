{
 "cells": [
  {
   "cell_type": "code",
   "execution_count": 17,
   "metadata": {},
   "outputs": [],
   "source": [
    "from utils import read_lines\n",
    "import re\n",
    "regex = r'([+-]?\\d+)'\n",
    "\n",
    "def parse_input(input_file):\n",
    "    ans = []\n",
    "    for line in read_lines(input_file):\n",
    "        ans.append([int(x) for x in re.findall(regex, line)])\n",
    "    return ans\n",
    "\n",
    "def part1(input_file):\n",
    "    params = parse_input(input_file)\n",
    "    total = 100\n",
    "    ans = 0\n",
    "    for a in range(total + 1):\n",
    "        for b in range(total - a + 1):\n",
    "            for c in range(total -a -b + 1):\n",
    "                d = total - (a + b + c)\n",
    "                cap = max(sum(p[0] * x for p, x in zip(params, [a, b, c, d])), 0)\n",
    "                dur = max(sum(p[1] * x for p, x in zip(params, [a, b, c, d])), 0)\n",
    "                fla = max(sum(p[2] * x for p, x in zip(params, [a, b, c, d])), 0)\n",
    "                tex = max(sum(p[3] * x for p, x in zip(params, [a, b, c, d])), 0)\n",
    "                ans = max(ans, cap * dur * fla * tex)\n",
    "    return ans\n",
    "\n",
    "def part2(input_file):\n",
    "    params = parse_input(input_file)\n",
    "    total = 100\n",
    "    ans = 0\n",
    "    for a in range(total + 1):\n",
    "        for b in range(total - a + 1):\n",
    "            for c in range(total -a -b + 1):\n",
    "                d = total - (a + b + c)\n",
    "                cap = max(sum(p[0] * x for p, x in zip(params, [a, b, c, d])), 0)\n",
    "                dur = max(sum(p[1] * x for p, x in zip(params, [a, b, c, d])), 0)\n",
    "                fla = max(sum(p[2] * x for p, x in zip(params, [a, b, c, d])), 0)\n",
    "                tex = max(sum(p[3] * x for p, x in zip(params, [a, b, c, d])), 0)\n",
    "                cal = sum(p[4] * x for p, x in zip(params, [a, b, c, d]))\n",
    "                if cal == 500:\n",
    "                    ans = max(ans, cap * dur * fla * tex)\n",
    "    return ans"
   ]
  },
  {
   "cell_type": "code",
   "execution_count": 16,
   "metadata": {},
   "outputs": [
    {
     "data": {
      "text/plain": [
       "222870"
      ]
     },
     "execution_count": 16,
     "metadata": {},
     "output_type": "execute_result"
    }
   ],
   "source": [
    "part1('inputs/day15.txt')"
   ]
  },
  {
   "cell_type": "code",
   "execution_count": 18,
   "metadata": {},
   "outputs": [
    {
     "data": {
      "text/plain": [
       "117936"
      ]
     },
     "execution_count": 18,
     "metadata": {},
     "output_type": "execute_result"
    }
   ],
   "source": [
    "part2('inputs/day15.txt')"
   ]
  },
  {
   "cell_type": "code",
   "execution_count": null,
   "metadata": {},
   "outputs": [],
   "source": []
  }
 ],
 "metadata": {
  "kernelspec": {
   "display_name": "Test",
   "language": "python",
   "name": "python3"
  },
  "language_info": {
   "codemirror_mode": {
    "name": "ipython",
    "version": 3
   },
   "file_extension": ".py",
   "mimetype": "text/x-python",
   "name": "python",
   "nbconvert_exporter": "python",
   "pygments_lexer": "ipython3",
   "version": "3.12.2"
  }
 },
 "nbformat": 4,
 "nbformat_minor": 2
}
