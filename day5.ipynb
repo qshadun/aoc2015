{
 "cells": [
  {
   "cell_type": "code",
   "execution_count": 7,
   "metadata": {},
   "outputs": [],
   "source": [
    "from utils import read_lines\n",
    "\n",
    "def is_nice(word):\n",
    "    vowel_cnt = 0\n",
    "    for c in word:\n",
    "        if c in 'aeiou':\n",
    "            vowel_cnt += 1\n",
    "    if vowel_cnt < 3:\n",
    "        return False\n",
    "    if any(x in word for x in ['ab', 'cd', 'pq', 'xy']):\n",
    "        return False\n",
    "    for i in range(len(word) - 1):\n",
    "        if word[i] == word[i+1]:\n",
    "            return True\n",
    "    return False\n",
    "\n",
    "def part1(input_file):\n",
    "    ans = 0\n",
    "    for line in read_lines(input_file):\n",
    "        if is_nice(line):\n",
    "            ans += 1\n",
    "    return ans\n",
    "\n",
    "def is_nice2(word):\n",
    "    rule1 = False\n",
    "    for i in range(len(word) - 3):\n",
    "        xy = word[i:i+2]\n",
    "        try:\n",
    "            word.index(xy, i+2)\n",
    "        except Exception:\n",
    "            continue\n",
    "        else:\n",
    "            rule1 = True\n",
    "            break\n",
    "    if not rule1:\n",
    "        return False\n",
    "    for i in range(len(word) - 2):\n",
    "        if word[i] == word[i+2]:\n",
    "            return True\n",
    "    return False\n",
    "\n",
    "def part2(input_file):\n",
    "    ans = 0\n",
    "    for line in read_lines(input_file):\n",
    "        if is_nice2(line):\n",
    "            ans += 1\n",
    "    return ans"
   ]
  },
  {
   "cell_type": "code",
   "execution_count": 2,
   "metadata": {},
   "outputs": [
    {
     "data": {
      "text/plain": [
       "236"
      ]
     },
     "execution_count": 2,
     "metadata": {},
     "output_type": "execute_result"
    }
   ],
   "source": [
    "part1('inputs/day5.txt')"
   ]
  },
  {
   "cell_type": "code",
   "execution_count": 8,
   "metadata": {},
   "outputs": [
    {
     "data": {
      "text/plain": [
       "51"
      ]
     },
     "execution_count": 8,
     "metadata": {},
     "output_type": "execute_result"
    }
   ],
   "source": [
    "part2('inputs/day5.txt')"
   ]
  },
  {
   "cell_type": "code",
   "execution_count": null,
   "metadata": {},
   "outputs": [],
   "source": []
  }
 ],
 "metadata": {
  "kernelspec": {
   "display_name": "Test",
   "language": "python",
   "name": "python3"
  },
  "language_info": {
   "codemirror_mode": {
    "name": "ipython",
    "version": 3
   },
   "file_extension": ".py",
   "mimetype": "text/x-python",
   "name": "python",
   "nbconvert_exporter": "python",
   "pygments_lexer": "ipython3",
   "version": "3.12.2"
  }
 },
 "nbformat": 4,
 "nbformat_minor": 2
}
