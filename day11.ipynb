{
 "cells": [
  {
   "cell_type": "code",
   "execution_count": 22,
   "metadata": {},
   "outputs": [],
   "source": [
    "my_input = 'cqjxjnds'\n",
    "\n",
    "def incr(s):\n",
    "    arr = [ord(c) for c in s][::-1]\n",
    "    carry = 1\n",
    "    for i in range(len(arr)):\n",
    "        if arr[i] == ord('z'):\n",
    "            arr[i] = ord('a')\n",
    "        else:\n",
    "            arr[i] += 1\n",
    "            carry = 0\n",
    "        if not carry:\n",
    "            break\n",
    "    if carry:\n",
    "        arr.append(ord('a'))\n",
    "    return ''.join(chr(i) for i in arr[::-1])\n",
    "\n",
    "def is_valid(s):\n",
    "    if any(c in s for c in ('i', 'o', 'l')):\n",
    "        return False\n",
    "    rule1 = False\n",
    "    for i in range(len(s) - 2):\n",
    "        if ord(s[i+1]) == ord(s[i]) + 1 and ord(s[i+2]) == ord(s[i]) + 2:\n",
    "            rule1 = True\n",
    "            break\n",
    "    if not rule1:\n",
    "        return False\n",
    "    rule2 = False\n",
    "    i = 0\n",
    "    db = None\n",
    "    while i < len(s) - 1:\n",
    "        if s[i] == s[i + 1]:\n",
    "            if db:\n",
    "                if s[i] != db:\n",
    "                    rule2 = True\n",
    "                    break\n",
    "            else:\n",
    "                db = 's[i]'\n",
    "            i += 2\n",
    "        else:\n",
    "            i += 1\n",
    "    return rule2\n",
    "\n",
    "def part1():\n",
    "    s = my_input\n",
    "    while not is_valid(s):\n",
    "        s = incr(s)\n",
    "    return s\n",
    "\n",
    "def part2():\n",
    "    s = my_input\n",
    "    while not is_valid(s):\n",
    "        s = incr(s)\n",
    "    s = incr(s)\n",
    "    while not is_valid(s):\n",
    "        s = incr(s)\n",
    "    return s"
   ]
  },
  {
   "cell_type": "code",
   "execution_count": 21,
   "metadata": {},
   "outputs": [
    {
     "data": {
      "text/plain": [
       "'cqjxxyzz'"
      ]
     },
     "execution_count": 21,
     "metadata": {},
     "output_type": "execute_result"
    }
   ],
   "source": [
    "part1()"
   ]
  },
  {
   "cell_type": "code",
   "execution_count": 23,
   "metadata": {},
   "outputs": [
    {
     "data": {
      "text/plain": [
       "'cqkaabcc'"
      ]
     },
     "execution_count": 23,
     "metadata": {},
     "output_type": "execute_result"
    }
   ],
   "source": [
    "part2()"
   ]
  }
 ],
 "metadata": {
  "kernelspec": {
   "display_name": "Test",
   "language": "python",
   "name": "python3"
  },
  "language_info": {
   "codemirror_mode": {
    "name": "ipython",
    "version": 3
   },
   "file_extension": ".py",
   "mimetype": "text/x-python",
   "name": "python",
   "nbconvert_exporter": "python",
   "pygments_lexer": "ipython3",
   "version": "3.12.2"
  }
 },
 "nbformat": 4,
 "nbformat_minor": 2
}
