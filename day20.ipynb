{
 "cells": [
  {
   "cell_type": "code",
   "execution_count": 39,
   "metadata": {},
   "outputs": [],
   "source": [
    "import math\n",
    "\n",
    "my_input = 36000000\n",
    "\n",
    "def factors_sum(x):\n",
    "    if x == 1:\n",
    "        return 1\n",
    "    rt = int(math.sqrt(x))\n",
    "    ans = 0\n",
    "    for i in range(1, rt + 1):\n",
    "        if x % i == 0:\n",
    "            ans += i\n",
    "            ans += x // i\n",
    "    if rt * rt == x:\n",
    "        ans -= rt\n",
    "    return ans\n",
    "\n",
    "def part1():\n",
    "    target = my_input // 10\n",
    "\n",
    "    i = 100000\n",
    "    while factors_sum(i) < target:\n",
    "        i += 1\n",
    "    return i\n",
    "\n",
    "\n",
    "def factors_sum2(x):\n",
    "    ans = 0\n",
    "    for i in range(1, 51):\n",
    "        if x % i == 0:\n",
    "            ans += x // i\n",
    "    return ans\n",
    "\n",
    "def part2():\n",
    "    target = my_input / 11\n",
    "\n",
    "    i = 776160\n",
    "    while factors_sum2(i) < target:\n",
    "        i += 1\n",
    "    return i\n"
   ]
  },
  {
   "cell_type": "code",
   "execution_count": 25,
   "metadata": {},
   "outputs": [
    {
     "data": {
      "text/plain": [
       "831600"
      ]
     },
     "execution_count": 25,
     "metadata": {},
     "output_type": "execute_result"
    }
   ],
   "source": [
    "part1()"
   ]
  },
  {
   "cell_type": "code",
   "execution_count": 40,
   "metadata": {},
   "outputs": [
    {
     "data": {
      "text/plain": [
       "884520"
      ]
     },
     "execution_count": 40,
     "metadata": {},
     "output_type": "execute_result"
    }
   ],
   "source": [
    "part2()"
   ]
  }
 ],
 "metadata": {
  "kernelspec": {
   "display_name": "Test",
   "language": "python",
   "name": "python3"
  },
  "language_info": {
   "codemirror_mode": {
    "name": "ipython",
    "version": 3
   },
   "file_extension": ".py",
   "mimetype": "text/x-python",
   "name": "python",
   "nbconvert_exporter": "python",
   "pygments_lexer": "ipython3",
   "version": "3.12.2"
  }
 },
 "nbformat": 4,
 "nbformat_minor": 2
}
