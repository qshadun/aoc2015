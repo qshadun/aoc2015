{
 "cells": [
  {
   "cell_type": "code",
   "execution_count": 13,
   "metadata": {},
   "outputs": [],
   "source": [
    "my_input = '1113222113'\n",
    "\n",
    "def look_and_say(s):\n",
    "    n = len(s)\n",
    "    ans = []\n",
    "    i = 0\n",
    "    while i < n:\n",
    "        j = i + 1\n",
    "        while j < n and s[j] == s[i]:\n",
    "            j += 1\n",
    "        ans.append(str(j-i))\n",
    "        ans.append(s[i])\n",
    "        i = j\n",
    "    return ''.join(ans)\n",
    "\n",
    "def part1():\n",
    "    s = my_input\n",
    "    for _ in range(40):\n",
    "        s = look_and_say(s)\n",
    "    return len(s)\n",
    "\n",
    "def part2():\n",
    "    s = my_input\n",
    "    for _ in range(50):\n",
    "        s = look_and_say(s)\n",
    "    return len(s)"
   ]
  },
  {
   "cell_type": "code",
   "execution_count": 7,
   "metadata": {},
   "outputs": [],
   "source": [
    "assert look_and_say('111221') == '312211'\n",
    "assert look_and_say('1') == '11'\n",
    "assert look_and_say('11') == '21'\n",
    "assert look_and_say('21') == '1211'\n",
    "assert look_and_say('1211') == '111221'"
   ]
  },
  {
   "cell_type": "code",
   "execution_count": 11,
   "metadata": {},
   "outputs": [
    {
     "data": {
      "text/plain": [
       "252594"
      ]
     },
     "execution_count": 11,
     "metadata": {},
     "output_type": "execute_result"
    }
   ],
   "source": [
    "part1()"
   ]
  },
  {
   "cell_type": "code",
   "execution_count": 14,
   "metadata": {},
   "outputs": [
    {
     "data": {
      "text/plain": [
       "3579328"
      ]
     },
     "execution_count": 14,
     "metadata": {},
     "output_type": "execute_result"
    }
   ],
   "source": [
    "part2()"
   ]
  },
  {
   "cell_type": "code",
   "execution_count": null,
   "metadata": {},
   "outputs": [],
   "source": []
  }
 ],
 "metadata": {
  "kernelspec": {
   "display_name": "Test",
   "language": "python",
   "name": "python3"
  },
  "language_info": {
   "codemirror_mode": {
    "name": "ipython",
    "version": 3
   },
   "file_extension": ".py",
   "mimetype": "text/x-python",
   "name": "python",
   "nbconvert_exporter": "python",
   "pygments_lexer": "ipython3",
   "version": "3.12.2"
  }
 },
 "nbformat": 4,
 "nbformat_minor": 2
}
