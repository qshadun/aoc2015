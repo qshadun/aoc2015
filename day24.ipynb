{
 "cells": [
  {
   "cell_type": "code",
   "execution_count": 16,
   "metadata": {},
   "outputs": [],
   "source": [
    "from utils import read_lines\n",
    "from functools import cache\n",
    "\n",
    "def parse_input(input_file):\n",
    "    return [int(line) for line in read_lines(input_file)]\n",
    "\n",
    "def part1(input_file, group_cnt=3):\n",
    "    nums = parse_input(input_file)\n",
    "    group_sum = sum(nums) // group_cnt\n",
    "    n = len(nums)\n",
    "\n",
    "    def quantum(mask):\n",
    "        ans = 1\n",
    "        for i in range(n):\n",
    "            if mask & 1 << i:\n",
    "                ans *= nums[i]\n",
    "        return ans\n",
    "    cur_min = n\n",
    "\n",
    "    @cache\n",
    "    def dp(i, cur_sum, cur_cnt, mask):\n",
    "        nonlocal cur_min\n",
    "        if cur_sum == group_sum:\n",
    "            \n",
    "            cur_min = min(cur_min, cur_cnt)\n",
    "            return cur_cnt, quantum(mask)\n",
    "        if i == -1 or cur_sum > group_sum or cur_cnt > cur_min:\n",
    "            return (n, 0)\n",
    "        take = dp(i-1, cur_sum + nums[i], cur_cnt + 1, mask | 1<<i)\n",
    "        no_take = dp(i-1, cur_sum, cur_cnt, mask)\n",
    "        return min(take, no_take)\n",
    "    return dp(n-1, 0, 0, 0)[1]\n",
    "\n"
   ]
  },
  {
   "cell_type": "code",
   "execution_count": 17,
   "metadata": {},
   "outputs": [
    {
     "data": {
      "text/plain": [
       "11846773891"
      ]
     },
     "execution_count": 17,
     "metadata": {},
     "output_type": "execute_result"
    }
   ],
   "source": [
    "part1('inputs/day24.txt')"
   ]
  },
  {
   "cell_type": "code",
   "execution_count": 19,
   "metadata": {},
   "outputs": [
    {
     "data": {
      "text/plain": [
       "80393059"
      ]
     },
     "execution_count": 19,
     "metadata": {},
     "output_type": "execute_result"
    }
   ],
   "source": [
    "part1('inputs/day24.txt', 4)"
   ]
  },
  {
   "cell_type": "code",
   "execution_count": null,
   "metadata": {},
   "outputs": [],
   "source": []
  }
 ],
 "metadata": {
  "kernelspec": {
   "display_name": "Test",
   "language": "python",
   "name": "python3"
  },
  "language_info": {
   "codemirror_mode": {
    "name": "ipython",
    "version": 3
   },
   "file_extension": ".py",
   "mimetype": "text/x-python",
   "name": "python",
   "nbconvert_exporter": "python",
   "pygments_lexer": "ipython3",
   "version": "3.12.2"
  }
 },
 "nbformat": 4,
 "nbformat_minor": 2
}
