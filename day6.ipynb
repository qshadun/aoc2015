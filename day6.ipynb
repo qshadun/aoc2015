{
 "cells": [
  {
   "cell_type": "code",
   "execution_count": 21,
   "metadata": {},
   "outputs": [],
   "source": [
    "from utils import read_lines\n",
    "import numpy as np\n",
    "\n",
    "\n",
    "def read_cords(line):\n",
    "    parts = line.split(' ')\n",
    "    return parse_cord(parts[-3]), parse_cord(parts[-1])\n",
    "\n",
    "def parse_cord(s):\n",
    "    a, b = s.split(',')\n",
    "    return int(a), int(b)\n",
    "\n",
    "def part1(input_file):\n",
    "    matrix = np.zeros((1000, 1000), int)\n",
    "    for line in read_lines(input_file):\n",
    "        (x1, y1), (x2, y2) = read_cords(line)\n",
    "        if line.startswith('toggle'):\n",
    "            for x in range(x1, x2+1):\n",
    "                for y in range(y1, y2+1):\n",
    "                    matrix[y][x] = 1 - matrix[y][x]\n",
    "        elif line.startswith('turn on'):\n",
    "            for x in range(x1, x2+1):\n",
    "                for y in range(y1, y2+1):\n",
    "                    matrix[y][x] = 1\n",
    "        elif line.startswith('turn off'):\n",
    "            for x in range(x1, x2+1):\n",
    "                for y in range(y1, y2+1):\n",
    "                    matrix[y][x] = 0\n",
    "        else:\n",
    "            raise ValueError(f'illegal instruction {line}')\n",
    "    return np.sum(matrix)\n",
    "\n",
    "def part2(input_file):\n",
    "    matrix = np.zeros((1000, 1000), int)\n",
    "    for line in read_lines(input_file):\n",
    "        (x1, y1), (x2, y2) = read_cords(line)\n",
    "        if line.startswith('toggle'):\n",
    "            for x in range(x1, x2+1):\n",
    "                for y in range(y1, y2+1):\n",
    "                    matrix[y][x] += 2 \n",
    "        elif line.startswith('turn on'):\n",
    "            for x in range(x1, x2+1):\n",
    "                for y in range(y1, y2+1):\n",
    "                    matrix[y][x] += 1\n",
    "        elif line.startswith('turn off'):\n",
    "            for x in range(x1, x2+1):\n",
    "                for y in range(y1, y2+1):\n",
    "                    matrix[y][x] = max(0, matrix[y][x] - 1)\n",
    "        else:\n",
    "            raise ValueError(f'illegal instruction {line}')\n",
    "    return np.sum(matrix)"
   ]
  },
  {
   "cell_type": "code",
   "execution_count": 16,
   "metadata": {},
   "outputs": [
    {
     "data": {
      "text/plain": [
       "543903"
      ]
     },
     "execution_count": 16,
     "metadata": {},
     "output_type": "execute_result"
    }
   ],
   "source": [
    "part1('inputs/day6.txt')"
   ]
  },
  {
   "cell_type": "code",
   "execution_count": 22,
   "metadata": {},
   "outputs": [
    {
     "data": {
      "text/plain": [
       "14687245"
      ]
     },
     "execution_count": 22,
     "metadata": {},
     "output_type": "execute_result"
    }
   ],
   "source": [
    "part2('inputs/day6.txt')"
   ]
  },
  {
   "cell_type": "code",
   "execution_count": null,
   "metadata": {},
   "outputs": [],
   "source": []
  }
 ],
 "metadata": {
  "kernelspec": {
   "display_name": "Test",
   "language": "python",
   "name": "python3"
  },
  "language_info": {
   "codemirror_mode": {
    "name": "ipython",
    "version": 3
   },
   "file_extension": ".py",
   "mimetype": "text/x-python",
   "name": "python",
   "nbconvert_exporter": "python",
   "pygments_lexer": "ipython3",
   "version": "3.12.2"
  }
 },
 "nbformat": 4,
 "nbformat_minor": 2
}
