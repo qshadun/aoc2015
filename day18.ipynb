{
 "cells": [
  {
   "cell_type": "code",
   "execution_count": 10,
   "metadata": {},
   "outputs": [],
   "source": [
    "from utils import read_lines\n",
    "\n",
    "def parse_input(input_file):\n",
    "    return [[c for c in line] for line in read_lines(input_file)]\n",
    "\n",
    "def print_matrix(matrix):\n",
    "    for row in matrix:\n",
    "        print(''.join(row))\n",
    "\n",
    "neighbors = [[x, y] for x in [-1, 0, 1] for y in [-1, 0, 1] if x or y]\n",
    "\n",
    "def count(matrix, r, c):\n",
    "    ans = 0\n",
    "    m, n = len(matrix), len(matrix[0])\n",
    "    for dr, dc in neighbors:\n",
    "        nr, nc = r + dr, c + dc\n",
    "        if 0 <= nr < m and 0 <= nc < n and matrix[nr][nc] == '#':\n",
    "            ans += 1\n",
    "    return ans\n",
    "\n",
    "def one_step(matrix):\n",
    "    m, n = len(matrix), len(matrix[0])\n",
    "    ans = [['.'] * n for _ in range(m)]\n",
    "    for r in range(m):\n",
    "        for c in range(n):\n",
    "            cnt = count(matrix, r, c)\n",
    "            if matrix[r][c] == '#' and cnt in (2, 3) or matrix[r][c] == '.' and cnt == 3:\n",
    "                ans[r][c] = '#'\n",
    "    return ans\n",
    "\n",
    "def part1(input_file):\n",
    "    matrix = parse_input(input_file)\n",
    "    for _ in range(100):\n",
    "        matrix = one_step(matrix)\n",
    "    ans = 0\n",
    "    for i in range(len(matrix)):\n",
    "        for j in range(len(matrix[0])):\n",
    "            if matrix[i][j] == '#':\n",
    "                ans += 1\n",
    "    return ans\n",
    "\n",
    "\n",
    "def part2(input_file):\n",
    "    matrix = parse_input(input_file)\n",
    "    m, n = len(matrix), len(matrix[0])\n",
    "    for _ in range(100):\n",
    "        matrix = one_step(matrix)\n",
    "        matrix[0][0] = '#'\n",
    "        matrix[m-1][0] ='#'\n",
    "        matrix[0][n-1] = '#'\n",
    "        matrix[m-1][n-1] ='#'\n",
    "    ans = 0\n",
    "    for i in range(len(matrix)):\n",
    "        for j in range(len(matrix[0])):\n",
    "            if matrix[i][j] == '#':\n",
    "                ans += 1\n",
    "    return ans"
   ]
  },
  {
   "cell_type": "code",
   "execution_count": 9,
   "metadata": {},
   "outputs": [
    {
     "data": {
      "text/plain": [
       "768"
      ]
     },
     "execution_count": 9,
     "metadata": {},
     "output_type": "execute_result"
    }
   ],
   "source": [
    "part1('inputs/day18.txt')"
   ]
  },
  {
   "cell_type": "code",
   "execution_count": 11,
   "metadata": {},
   "outputs": [
    {
     "data": {
      "text/plain": [
       "781"
      ]
     },
     "execution_count": 11,
     "metadata": {},
     "output_type": "execute_result"
    }
   ],
   "source": [
    "part2('inputs/day18.txt')"
   ]
  },
  {
   "cell_type": "code",
   "execution_count": null,
   "metadata": {},
   "outputs": [],
   "source": []
  }
 ],
 "metadata": {
  "kernelspec": {
   "display_name": "Test",
   "language": "python",
   "name": "python3"
  },
  "language_info": {
   "codemirror_mode": {
    "name": "ipython",
    "version": 3
   },
   "file_extension": ".py",
   "mimetype": "text/x-python",
   "name": "python",
   "nbconvert_exporter": "python",
   "pygments_lexer": "ipython3",
   "version": "3.12.2"
  }
 },
 "nbformat": 4,
 "nbformat_minor": 2
}
