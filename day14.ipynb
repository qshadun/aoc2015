{
 "cells": [
  {
   "cell_type": "code",
   "execution_count": 8,
   "metadata": {},
   "outputs": [],
   "source": [
    "from utils import read_lines\n",
    "import numpy as np\n",
    "\n",
    "def parse_input(input_file):\n",
    "    ans = []\n",
    "    for line in read_lines(input_file):\n",
    "        parts = line.split(' ')\n",
    "        speed = int(parts[3])\n",
    "        fly = int(parts[6])\n",
    "        rest = int(parts[-2])\n",
    "        ans.append((speed, fly, rest))\n",
    "    return ans\n",
    "\n",
    "def distance(seconds, deer):\n",
    "    speed, fly, rest = deer\n",
    "    p = fly + rest\n",
    "    ans = speed * fly * (seconds // p)\n",
    "    remain = seconds % p\n",
    "    return ans + min(fly, remain) * speed\n",
    "\n",
    "def part1(input_file):\n",
    "    deers = parse_input(input_file)\n",
    "    distances = [distance(2503, d) for d in deers]\n",
    "    return max(distances)\n",
    "\n",
    "def part2(input_file):\n",
    "    deers = parse_input(input_file)\n",
    "    scores = [0] * len(deers)\n",
    "    for i in range(1, 2504):\n",
    "        dd = [distance(i, d) for d in deers]\n",
    "        scores[np.argmax(dd)] += 1\n",
    "    return max(scores)\n"
   ]
  },
  {
   "cell_type": "code",
   "execution_count": 7,
   "metadata": {},
   "outputs": [
    {
     "data": {
      "text/plain": [
       "2696"
      ]
     },
     "execution_count": 7,
     "metadata": {},
     "output_type": "execute_result"
    }
   ],
   "source": [
    "part1('inputs/day14.txt')"
   ]
  },
  {
   "cell_type": "code",
   "execution_count": 9,
   "metadata": {},
   "outputs": [
    {
     "data": {
      "text/plain": [
       "1084"
      ]
     },
     "execution_count": 9,
     "metadata": {},
     "output_type": "execute_result"
    }
   ],
   "source": [
    "part2('inputs/day14.txt')"
   ]
  },
  {
   "cell_type": "code",
   "execution_count": null,
   "metadata": {},
   "outputs": [],
   "source": []
  }
 ],
 "metadata": {
  "kernelspec": {
   "display_name": "Test",
   "language": "python",
   "name": "python3"
  },
  "language_info": {
   "codemirror_mode": {
    "name": "ipython",
    "version": 3
   },
   "file_extension": ".py",
   "mimetype": "text/x-python",
   "name": "python",
   "nbconvert_exporter": "python",
   "pygments_lexer": "ipython3",
   "version": "3.12.2"
  }
 },
 "nbformat": 4,
 "nbformat_minor": 2
}
