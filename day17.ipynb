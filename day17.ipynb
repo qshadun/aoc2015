{
 "cells": [
  {
   "cell_type": "code",
   "execution_count": 25,
   "metadata": {},
   "outputs": [],
   "source": [
    "from utils import read_lines\n",
    "from functools import cache\n",
    "from collections import defaultdict\n",
    "\n",
    "def part1(input_file):\n",
    "    nums = []\n",
    "    for line in read_lines(input_file):\n",
    "        nums.append(int(line))\n",
    "    target = 150\n",
    "    n = len(nums)\n",
    "\n",
    "    @cache\n",
    "    def dp(i, remain):\n",
    "        if remain == 0:\n",
    "            return 1\n",
    "        if remain < 0:\n",
    "            return 0\n",
    "        if i == n:\n",
    "            return 0\n",
    "        take = dp(i + 1, remain - nums[i])\n",
    "        no_take = dp(i + 1, remain)\n",
    "        return take + no_take\n",
    "    \n",
    "    return dp(0, target)\n",
    "\n",
    "\n",
    "def part2(input_file):\n",
    "    nums = []\n",
    "    for line in read_lines(input_file):\n",
    "        nums.append(int(line))\n",
    "    target = 150\n",
    "    n = len(nums)\n",
    "\n",
    "    counter = defaultdict(int)\n",
    "\n",
    "    for i in range(2**n):\n",
    "        total = 0\n",
    "        cnt = 0\n",
    "        for j in range(n):\n",
    "            if i & (1 << j):\n",
    "                total += nums[j]\n",
    "                cnt += 1\n",
    "        if total == target:\n",
    "            counter[cnt] += 1\n",
    "\n",
    "    min_bucket = min(counter)\n",
    "    print(counter)\n",
    "    print(sum(counter.values()))\n",
    "    return counter[min_bucket]\n",
    "\n",
    "def part2_2(input_file):\n",
    "    nums = []\n",
    "    for line in read_lines(input_file):\n",
    "        nums.append(int(line))\n",
    "    target = 150\n",
    "    n = len(nums)\n",
    "\n",
    "    @cache\n",
    "    def dp(i, remain):\n",
    "        if remain == 0:\n",
    "            return [1] + [0] * (n - 1)\n",
    "        if remain < 0:\n",
    "            return [0] * n\n",
    "        if i == n:\n",
    "            return [0] * n\n",
    "        take = dp(i + 1, remain - nums[i])\n",
    "        no_take = dp(i + 1, remain)\n",
    "        ans = no_take[:]\n",
    "        for i in range(1, n):\n",
    "            ans[i] += take[i-1]\n",
    "        return ans\n",
    "    solutions = dp(0, target)\n",
    "    for x in solutions:\n",
    "        if x > 0:\n",
    "            return x\n"
   ]
  },
  {
   "cell_type": "code",
   "execution_count": 4,
   "metadata": {},
   "outputs": [
    {
     "data": {
      "text/plain": [
       "1638"
      ]
     },
     "execution_count": 4,
     "metadata": {},
     "output_type": "execute_result"
    }
   ],
   "source": [
    "part1('inputs/day17.txt')"
   ]
  },
  {
   "cell_type": "code",
   "execution_count": 12,
   "metadata": {},
   "outputs": [
    {
     "name": "stdout",
     "output_type": "stream",
     "text": [
      "defaultdict(<class 'int'>, {5: 151, 6: 441, 7: 552, 8: 356, 9: 110, 4: 17, 10: 11})\n",
      "1638\n"
     ]
    },
    {
     "data": {
      "text/plain": [
       "17"
      ]
     },
     "execution_count": 12,
     "metadata": {},
     "output_type": "execute_result"
    }
   ],
   "source": [
    "part2('inputs/day17.txt')"
   ]
  },
  {
   "cell_type": "code",
   "execution_count": 26,
   "metadata": {},
   "outputs": [
    {
     "data": {
      "text/plain": [
       "17"
      ]
     },
     "execution_count": 26,
     "metadata": {},
     "output_type": "execute_result"
    }
   ],
   "source": [
    "part2_2('inputs/day17.txt')"
   ]
  },
  {
   "cell_type": "code",
   "execution_count": null,
   "metadata": {},
   "outputs": [],
   "source": []
  }
 ],
 "metadata": {
  "kernelspec": {
   "display_name": "Test",
   "language": "python",
   "name": "python3"
  },
  "language_info": {
   "codemirror_mode": {
    "name": "ipython",
    "version": 3
   },
   "file_extension": ".py",
   "mimetype": "text/x-python",
   "name": "python",
   "nbconvert_exporter": "python",
   "pygments_lexer": "ipython3",
   "version": "3.12.2"
  }
 },
 "nbformat": 4,
 "nbformat_minor": 2
}
