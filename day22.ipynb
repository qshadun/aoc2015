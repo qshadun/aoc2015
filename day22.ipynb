{
 "cells": [
  {
   "cell_type": "code",
   "execution_count": 4,
   "metadata": {},
   "outputs": [],
   "source": [
    "from functools import cache\n",
    "\"\"\"Hit Points: 55\n",
    "Damage: 8\"\"\"\n",
    "\n",
    "boss_initial_hp = 55\n",
    "boss_damage = 8\n",
    "player = (50, 500)\n",
    "\n",
    "\"\"\"Magic Missile costs 53 mana. It instantly does 4 damage.\n",
    "Drain costs 73 mana. It instantly does 2 damage and heals you for 2 hit points.\n",
    "Shield costs 113 mana. It starts an effect that lasts for 6 turns. While it is active, your armor is increased by 7.\n",
    "Poison costs 173 mana. It starts an effect that lasts for 6 turns. At the start of each turn while it is active, it deals the boss 3 damage.\n",
    "Recharge costs 229 mana. It starts an effect that lasts for 5 turns. At the start of each turn while it is active, it gives you 101 new mana.\"\"\"\n",
    "costs = [53, 73, 113, 173, 229]\n",
    "\n",
    "\n",
    "\n",
    "def part1(hard=False):\n",
    "    \n",
    "    @cache\n",
    "    def dp(hp, mana, boss_hp, shield, recharge, poison, turn):\n",
    "        if hard and turn == 0: \n",
    "            hp -= 1\n",
    "            if hp <= 0:\n",
    "                return float('inf')\n",
    "        if poison:\n",
    "            boss_hp -= 3\n",
    "            poison -= 1\n",
    "        if boss_hp <= 0:\n",
    "            return 0\n",
    "        if shield:\n",
    "            shield -= 1\n",
    "        if recharge:\n",
    "            recharge -= 1\n",
    "            mana += 101\n",
    "        if turn == 1:\n",
    "            if shield:\n",
    "                hp -= (boss_damage - 7)\n",
    "            else:\n",
    "                hp -= boss_damage\n",
    "            if hp <= 0:\n",
    "                return float('inf')\n",
    "            return dp(hp, mana, boss_hp, shield, recharge, poison, 0)\n",
    "        ans = float('inf')\n",
    "        if mana < costs[0]:\n",
    "            return ans\n",
    "        if mana >= costs[0]: #magic missile\n",
    "            ans = min(ans, costs[0] + dp(hp, mana-costs[0], boss_hp - 4, shield, recharge, poison, 1))\n",
    "        if mana >= costs[1]: # drain\n",
    "            ans = min(ans, costs[1] + dp(hp + 2, mana-costs[1], boss_hp - 2, shield, recharge, poison, 1))\n",
    "        if mana >= costs[2] and not shield:\n",
    "            ans = min(ans, costs[2] + dp(hp, mana-costs[2], boss_hp, 6, recharge, poison, 1))\n",
    "        if mana > costs[3] and not poison:\n",
    "            ans = min(ans, costs[3] + dp(hp, mana-costs[3], boss_hp, shield, recharge, 6, 1))\n",
    "        if mana > costs[4] and not recharge:\n",
    "            ans = min(ans, costs[4] + dp(hp, mana-costs[4], boss_hp, shield, 5, poison, 1))\n",
    "        return ans\n",
    "    return dp(hp=50, mana=500, boss_hp=boss_initial_hp, shield=0, recharge=0, poison=0, turn=0)"
   ]
  },
  {
   "cell_type": "code",
   "execution_count": 5,
   "metadata": {},
   "outputs": [
    {
     "data": {
      "text/plain": [
       "953"
      ]
     },
     "execution_count": 5,
     "metadata": {},
     "output_type": "execute_result"
    }
   ],
   "source": [
    "part1()"
   ]
  },
  {
   "cell_type": "code",
   "execution_count": 6,
   "metadata": {},
   "outputs": [
    {
     "data": {
      "text/plain": [
       "1289"
      ]
     },
     "execution_count": 6,
     "metadata": {},
     "output_type": "execute_result"
    }
   ],
   "source": [
    "part1(hard=True)"
   ]
  },
  {
   "cell_type": "code",
   "execution_count": null,
   "metadata": {},
   "outputs": [],
   "source": []
  }
 ],
 "metadata": {
  "kernelspec": {
   "display_name": "Test",
   "language": "python",
   "name": "python3"
  },
  "language_info": {
   "codemirror_mode": {
    "name": "ipython",
    "version": 3
   },
   "file_extension": ".py",
   "mimetype": "text/x-python",
   "name": "python",
   "nbconvert_exporter": "python",
   "pygments_lexer": "ipython3",
   "version": "3.12.2"
  }
 },
 "nbformat": 4,
 "nbformat_minor": 2
}
