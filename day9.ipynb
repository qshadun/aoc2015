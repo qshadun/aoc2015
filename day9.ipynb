{
 "cells": [
  {
   "cell_type": "code",
   "execution_count": 22,
   "metadata": {},
   "outputs": [],
   "source": [
    "from utils import read_lines\n",
    "from functools import cache\n",
    "\n",
    "def parse_input(input_file):\n",
    "    lines = read_lines(input_file)\n",
    "    cities = {}\n",
    "    for line in lines:\n",
    "        parts = line.split(' ')\n",
    "        c1, c2 = parts[0], parts[2]\n",
    "        if c1 not in cities:\n",
    "            cities[c1] = len(cities)\n",
    "        if c2 not in cities:\n",
    "            cities[c2] = len(cities)\n",
    "    n = len(cities)\n",
    "    matrix = [[0] * n for _ in range(n)]\n",
    "    for line in lines:\n",
    "        parts = line.split(' ')\n",
    "        c1, c2, dist = parts[0], parts[2], int(parts[-1])\n",
    "        matrix[cities[c1]][cities[c2]] = dist\n",
    "        matrix[cities[c2]][cities[c1]] = dist\n",
    "    return matrix\n",
    "\n",
    "def part1(input_file):\n",
    "    matrix = parse_input(input_file)\n",
    "    n = len(matrix)\n",
    "\n",
    "    @cache\n",
    "    def dp(cur, mask):\n",
    "        if mask == 2**n - 1:\n",
    "            return 0\n",
    "        ans = float('inf')\n",
    "        for i in range(n):\n",
    "            if mask & (1 << i) == 0:\n",
    "                cand = dp(i, mask | (1 << i))\n",
    "                if cur is not None:\n",
    "                    cand += matrix[cur][i]\n",
    "                ans = min(ans, cand)\n",
    "        return ans\n",
    "    return dp(None, 0)\n",
    "\n",
    "\n",
    "def part2(input_file):\n",
    "    matrix = parse_input(input_file)\n",
    "    n = len(matrix)\n",
    "\n",
    "    @cache\n",
    "    def dp(cur, mask):\n",
    "        if mask == 2**n - 1:\n",
    "            return 0\n",
    "        ans = 0\n",
    "        for i in range(n):\n",
    "            if mask & (1 << i) == 0:\n",
    "                cand = dp(i, mask | (1 << i))\n",
    "                if cur is not None:\n",
    "                    cand += matrix[cur][i]\n",
    "                ans = max(ans, cand)\n",
    "        return ans\n",
    "    return dp(None, 0)"
   ]
  },
  {
   "cell_type": "code",
   "execution_count": 21,
   "metadata": {},
   "outputs": [
    {
     "data": {
      "text/plain": [
       "141"
      ]
     },
     "execution_count": 21,
     "metadata": {},
     "output_type": "execute_result"
    }
   ],
   "source": [
    "part1('inputs/day9.txt')"
   ]
  },
  {
   "cell_type": "code",
   "execution_count": 23,
   "metadata": {},
   "outputs": [
    {
     "data": {
      "text/plain": [
       "736"
      ]
     },
     "execution_count": 23,
     "metadata": {},
     "output_type": "execute_result"
    }
   ],
   "source": [
    "part2('inputs/day9.txt')\n"
   ]
  },
  {
   "cell_type": "code",
   "execution_count": null,
   "metadata": {},
   "outputs": [],
   "source": []
  }
 ],
 "metadata": {
  "kernelspec": {
   "display_name": "Test",
   "language": "python",
   "name": "python3"
  },
  "language_info": {
   "codemirror_mode": {
    "name": "ipython",
    "version": 3
   },
   "file_extension": ".py",
   "mimetype": "text/x-python",
   "name": "python",
   "nbconvert_exporter": "python",
   "pygments_lexer": "ipython3",
   "version": "3.12.2"
  }
 },
 "nbformat": 4,
 "nbformat_minor": 2
}
