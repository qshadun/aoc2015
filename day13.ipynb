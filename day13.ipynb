{
 "cells": [
  {
   "cell_type": "code",
   "execution_count": 18,
   "metadata": {},
   "outputs": [],
   "source": [
    "from utils import read_lines\n",
    "from functools import cache\n",
    "\n",
    "def parse_input(input_file):\n",
    "    lines = read_lines(input_file)\n",
    "    names = {}\n",
    "    for line in lines:\n",
    "        parts = line.split(' ')\n",
    "        for name in (parts[0], parts[-1][:-1]):\n",
    "            if name not in names:\n",
    "                names[name] = len(names)\n",
    "    \n",
    "    n = len(names)\n",
    "    matrix = [[0] * n for _ in range(n)]\n",
    "    for line in lines:\n",
    "        parts = line.split(' ')\n",
    "        n1, v, n2 = parts[0], int(parts[3]), parts[-1][:-1]\n",
    "        if parts[2] == 'lose':\n",
    "            v = -v\n",
    "        matrix[names[n1]][names[n2]] = v\n",
    "\n",
    "    return matrix\n",
    "\n",
    "def normalize(matrix):\n",
    "    for i in range(len(matrix) - 1):\n",
    "        for j in range(i + 1, len(matrix)):\n",
    "            v = matrix[i][j] + matrix[j][i]\n",
    "            matrix[i][j] = v\n",
    "            matrix[j][i] = v\n",
    "        \n",
    "def part1(input_file):\n",
    "    matrix = parse_input(input_file)\n",
    "    normalize(matrix)\n",
    "    n = len(matrix)\n",
    "\n",
    "    @cache\n",
    "    def dp(cur, mask):\n",
    "        if mask == 2**n - 1:\n",
    "            return matrix[0][cur]\n",
    "        ans = float('-inf')\n",
    "        for i in range(1, n):\n",
    "            if mask & (1 << i) == 0:\n",
    "                r = dp(i, mask | (1 << i))\n",
    "                ans = max(ans, r + matrix[cur][i])\n",
    "        return ans\n",
    "    \n",
    "    return dp(0, 1)\n",
    "\n",
    "def part2(input_file):\n",
    "    matrix = parse_input(input_file)\n",
    "    normalize(matrix)\n",
    "    n = len(matrix)\n",
    "\n",
    "    @cache\n",
    "    def dp(cur, mask):\n",
    "        if mask == 2**n - 1:\n",
    "            return 0\n",
    "        ans = float('-inf')\n",
    "        for i in range(n):\n",
    "            if mask & (1 << i) == 0:\n",
    "                r = dp(i, mask | (1 << i))\n",
    "                if cur != -1:\n",
    "                    r += matrix[cur][i]\n",
    "                ans = max(ans, r)\n",
    "        return ans\n",
    "    \n",
    "    return dp(-1, 0)"
   ]
  },
  {
   "cell_type": "code",
   "execution_count": 12,
   "metadata": {},
   "outputs": [
    {
     "data": {
      "text/plain": [
       "709"
      ]
     },
     "execution_count": 12,
     "metadata": {},
     "output_type": "execute_result"
    }
   ],
   "source": [
    "part1('inputs/day13.txt')"
   ]
  },
  {
   "cell_type": "code",
   "execution_count": 19,
   "metadata": {},
   "outputs": [
    {
     "data": {
      "text/plain": [
       "668"
      ]
     },
     "execution_count": 19,
     "metadata": {},
     "output_type": "execute_result"
    }
   ],
   "source": [
    "part2('inputs/day13.txt')"
   ]
  },
  {
   "cell_type": "code",
   "execution_count": 10,
   "metadata": {},
   "outputs": [
    {
     "data": {
      "text/plain": [
       "[[0, 57, -164, 25, 38, -38, 83, -130],\n",
       " [57, 0, -62, -6, 33, 54, -107, 87],\n",
       " [-164, -62, 0, 83, 94, 149, -42, -5],\n",
       " [25, -6, 83, 0, -163, 41, 98, 46],\n",
       " [38, 33, 94, -163, 0, 23, -68, 100],\n",
       " [-38, 54, 149, 41, 23, 0, 59, 15],\n",
       " [83, -107, -42, 98, -68, 59, 0, -10],\n",
       " [-130, 87, -5, 46, 100, 15, -10, 0]]"
      ]
     },
     "execution_count": 10,
     "metadata": {},
     "output_type": "execute_result"
    }
   ],
   "source": [
    "matrix = parse_input('inputs/day13.txt')\n",
    "normalize(matrix)\n",
    "matrix"
   ]
  },
  {
   "cell_type": "code",
   "execution_count": null,
   "metadata": {},
   "outputs": [],
   "source": []
  }
 ],
 "metadata": {
  "kernelspec": {
   "display_name": "Test",
   "language": "python",
   "name": "python3"
  },
  "language_info": {
   "codemirror_mode": {
    "name": "ipython",
    "version": 3
   },
   "file_extension": ".py",
   "mimetype": "text/x-python",
   "name": "python",
   "nbconvert_exporter": "python",
   "pygments_lexer": "ipython3",
   "version": "3.12.2"
  }
 },
 "nbformat": 4,
 "nbformat_minor": 2
}
