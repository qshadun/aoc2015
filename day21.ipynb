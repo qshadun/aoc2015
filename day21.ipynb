{
 "cells": [
  {
   "cell_type": "code",
   "execution_count": 19,
   "metadata": {},
   "outputs": [],
   "source": [
    "from utils import read_lines\n",
    "from itertools import combinations\n",
    "import re\n",
    "\n",
    "shop = \\\n",
    "\"\"\"\n",
    "Weapons:    Cost  Damage  Armor\n",
    "Dagger        8     4       0\n",
    "Shortsword   10     5       0\n",
    "Warhammer    25     6       0\n",
    "Longsword    40     7       0\n",
    "Greataxe     74     8       0\n",
    "\n",
    "Armor:      Cost  Damage  Armor\n",
    "Leather      13     0       1\n",
    "Chainmail    31     0       2\n",
    "Splintmail   53     0       3\n",
    "Bandedmail   75     0       4\n",
    "Platemail   102     0       5\n",
    "\n",
    "Rings:      Cost  Damage  Armor\n",
    "Damage +1    25     1       0\n",
    "Damage +2    50     2       0\n",
    "Damage +3   100     3       0\n",
    "Defense +1   20     0       1\n",
    "Defense +2   40     0       2\n",
    "Defense +3   80     0       3\n",
    "\"\"\"\n",
    "\n",
    "def parse_items():\n",
    "    weapons, armors, rings = [], [(0, 0, 0)], [(0, 0,0)]  # add an empty one for convenience\n",
    "    cur_tp = weapons\n",
    "    for line in shop.split('\\n'):\n",
    "        if not line:\n",
    "            continue\n",
    "        if line.startswith('Weapons:'):\n",
    "            cur_tp = weapons\n",
    "            continue\n",
    "        if line.startswith('Armor:'):\n",
    "            cur_tp = armors\n",
    "            continue\n",
    "        if line.startswith('Rings:'):\n",
    "            cur_tp = rings\n",
    "            continue \n",
    "        parts = re.split(r'\\s+', line)\n",
    "        cur_tp.append((int(parts[-3]), int(parts[-2]), int(parts[-1])))\n",
    "    return weapons, armors, rings\n",
    "\n",
    "def parse_boss(input_file):\n",
    "    ans = []\n",
    "    for line in read_lines(input_file):\n",
    "        ans.append(int(line.split(' ')[-1]))\n",
    "    return tuple(ans)\n",
    "\n",
    "def play(p1, p2):\n",
    "    hp1, a1, d1 = p1\n",
    "    hp2, a2, d2 = p2\n",
    "    while True:\n",
    "        hp2 -= max(1, a1 - d2)\n",
    "        if hp2 <= 0:\n",
    "            return True\n",
    "        hp1 -= max(1, a2 - d1)\n",
    "        if hp1 <= 0:\n",
    "            return False\n",
    "\n",
    "def part1(input_file):\n",
    "    boss = parse_boss(input_file)\n",
    "    hp = 100\n",
    "    min_cost = float('inf')\n",
    "\n",
    "    weapons, armors, rings = parse_items()\n",
    "    for w in weapons:\n",
    "        for a in armors:\n",
    "            if w[0] + a[0] >= min_cost:\n",
    "                break\n",
    "            if play((hp, w[1], a[2]), boss):\n",
    "                min_cost = w[0] + a[0]\n",
    "                break\n",
    "            for r1, r2 in combinations(rings, 2):\n",
    "                cost = w[0] + a[0] + r1[0] + r2[0]\n",
    "                if cost >= min_cost:\n",
    "                    continue\n",
    "                at = w[1] + r1[1] + r2[1]\n",
    "                df = a[2] + r1[2] + r2[2]\n",
    "                if play((hp, at, df), boss):\n",
    "                    min_cost = cost\n",
    "    \n",
    "    return  min_cost\n",
    "\n",
    "\n",
    "def part2(input_file):\n",
    "    boss = parse_boss(input_file)\n",
    "    hp = 100\n",
    "    max_cost = 0\n",
    "\n",
    "    weapons, armors, rings = parse_items()\n",
    "    for w in weapons:\n",
    "        for a in armors:\n",
    "            if play((hp, w[1], a[2]), boss):\n",
    "                continue\n",
    "            for r1, r2 in combinations(rings, 2):\n",
    "                cost = w[0] + a[0] + r1[0] + r2[0]\n",
    "                if cost <= max_cost:\n",
    "                    continue\n",
    "                at = w[1] + r1[1] + r2[1]\n",
    "                df = a[2] + r1[2] + r2[2]\n",
    "                if not play((hp, at, df), boss):\n",
    "                    max_cost = cost\n",
    "    \n",
    "    return  max_cost\n"
   ]
  },
  {
   "cell_type": "code",
   "execution_count": 18,
   "metadata": {},
   "outputs": [
    {
     "data": {
      "text/plain": [
       "121"
      ]
     },
     "execution_count": 18,
     "metadata": {},
     "output_type": "execute_result"
    }
   ],
   "source": [
    "part1('inputs/day21.txt')"
   ]
  },
  {
   "cell_type": "code",
   "execution_count": 20,
   "metadata": {},
   "outputs": [
    {
     "data": {
      "text/plain": [
       "201"
      ]
     },
     "execution_count": 20,
     "metadata": {},
     "output_type": "execute_result"
    }
   ],
   "source": [
    "part2('inputs/day21.txt')"
   ]
  },
  {
   "cell_type": "code",
   "execution_count": null,
   "metadata": {},
   "outputs": [],
   "source": []
  }
 ],
 "metadata": {
  "kernelspec": {
   "display_name": "Test",
   "language": "python",
   "name": "python3"
  },
  "language_info": {
   "codemirror_mode": {
    "name": "ipython",
    "version": 3
   },
   "file_extension": ".py",
   "mimetype": "text/x-python",
   "name": "python",
   "nbconvert_exporter": "python",
   "pygments_lexer": "ipython3",
   "version": "3.12.2"
  }
 },
 "nbformat": 4,
 "nbformat_minor": 2
}
