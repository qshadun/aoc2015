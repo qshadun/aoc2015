{
 "cells": [
  {
   "cell_type": "code",
   "execution_count": 11,
   "metadata": {},
   "outputs": [],
   "source": [
    "from utils import read_lines\n",
    "\n",
    "ticker_str = \\\n",
    "\"\"\"\n",
    "children: 3\n",
    "cats: 7\n",
    "samoyeds: 2\n",
    "pomeranians: 3\n",
    "akitas: 0\n",
    "vizslas: 0\n",
    "goldfish: 5\n",
    "trees: 3\n",
    "cars: 2\n",
    "perfumes: 1\n",
    "\"\"\"\n",
    "\n",
    "ticker = {}\n",
    "for line in ticker_str.split('\\n'):\n",
    "    if not line:\n",
    "        continue\n",
    "    name, value = line.split(': ')\n",
    "    ticker[name] = int(value)\n",
    "\n",
    "def parse_input(input_file):\n",
    "    ans = []\n",
    "    for line in read_lines(input_file):\n",
    "        features = {}\n",
    "        parts = line.split(' ')\n",
    "        for i in range(2, len(parts), 2):\n",
    "            name = parts[i][:-1]\n",
    "            value = parts[i+1]\n",
    "            if value[-1]==',':\n",
    "                value = value[:-1]\n",
    "            value = int(value)\n",
    "            features[name] = value\n",
    "        ans.append(features)\n",
    "    return ans\n",
    "\n",
    "def part1(input_file):\n",
    "    aunts = parse_input(input_file)\n",
    "    for i, f in enumerate(aunts):\n",
    "        if all(f[name] == ticker[name] for name in f):\n",
    "            return i + 1\n",
    "        \n",
    "def match2(feature):\n",
    "    greater = ['cats', 'trees']\n",
    "    lesser = ['pomeranians', 'goldfish']\n",
    "    for name, v in feature.items():\n",
    "        if name in greater:\n",
    "            if v <= ticker[name]:\n",
    "                return False\n",
    "        elif name in lesser:\n",
    "            if v >= ticker[name]:\n",
    "                return False\n",
    "        else:\n",
    "            if v != ticker[name]:\n",
    "                return False\n",
    "    return True\n",
    "\n",
    "def part2(input_file):\n",
    "    \n",
    "    aunts = parse_input(input_file)\n",
    "    match = True\n",
    "    for i, f in enumerate(aunts):\n",
    "        if match2(f):\n",
    "            return i + 1\n"
   ]
  },
  {
   "cell_type": "code",
   "execution_count": 10,
   "metadata": {},
   "outputs": [
    {
     "data": {
      "text/plain": [
       "103"
      ]
     },
     "execution_count": 10,
     "metadata": {},
     "output_type": "execute_result"
    }
   ],
   "source": [
    "part1('inputs/day16.txt')"
   ]
  },
  {
   "cell_type": "code",
   "execution_count": 12,
   "metadata": {},
   "outputs": [
    {
     "data": {
      "text/plain": [
       "405"
      ]
     },
     "execution_count": 12,
     "metadata": {},
     "output_type": "execute_result"
    }
   ],
   "source": [
    "part2('inputs/day16.txt')"
   ]
  },
  {
   "cell_type": "code",
   "execution_count": null,
   "metadata": {},
   "outputs": [],
   "source": []
  }
 ],
 "metadata": {
  "kernelspec": {
   "display_name": "Test",
   "language": "python",
   "name": "python3"
  },
  "language_info": {
   "codemirror_mode": {
    "name": "ipython",
    "version": 3
   },
   "file_extension": ".py",
   "mimetype": "text/x-python",
   "name": "python",
   "nbconvert_exporter": "python",
   "pygments_lexer": "ipython3",
   "version": "3.12.2"
  }
 },
 "nbformat": 4,
 "nbformat_minor": 2
}
